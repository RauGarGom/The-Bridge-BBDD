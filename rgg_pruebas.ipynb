{
 "cells": [
  {
   "cell_type": "code",
   "execution_count": 15,
   "metadata": {},
   "outputs": [],
   "source": [
    "import numpy as np\n",
    "import pandas as pd"
   ]
  },
  {
   "cell_type": "code",
   "execution_count": 34,
   "metadata": {},
   "outputs": [],
   "source": [
    "from sqlalchemy import create_engine\n",
    "engine = create_engine('sqlite:///my_database.db', echo=False)"
   ]
  },
  {
   "cell_type": "code",
   "execution_count": 35,
   "metadata": {},
   "outputs": [],
   "source": [
    "df_c1 = pd.read_csv('./data/clase_1.csv',sep = ';')\n",
    "df_c1 = df_c1.iloc[:,:2]"
   ]
  },
  {
   "cell_type": "code",
   "execution_count": 36,
   "metadata": {},
   "outputs": [
    {
     "data": {
      "text/html": [
       "<div>\n",
       "<style scoped>\n",
       "    .dataframe tbody tr th:only-of-type {\n",
       "        vertical-align: middle;\n",
       "    }\n",
       "\n",
       "    .dataframe tbody tr th {\n",
       "        vertical-align: top;\n",
       "    }\n",
       "\n",
       "    .dataframe thead th {\n",
       "        text-align: right;\n",
       "    }\n",
       "</style>\n",
       "<table border=\"1\" class=\"dataframe\">\n",
       "  <thead>\n",
       "    <tr style=\"text-align: right;\">\n",
       "      <th></th>\n",
       "      <th>Nombre</th>\n",
       "      <th>Email</th>\n",
       "    </tr>\n",
       "  </thead>\n",
       "  <tbody>\n",
       "    <tr>\n",
       "      <th>0</th>\n",
       "      <td>Jafet Casals</td>\n",
       "      <td>Jafet_Casals@gmail.com</td>\n",
       "    </tr>\n",
       "    <tr>\n",
       "      <th>1</th>\n",
       "      <td>Jorge Manzanares</td>\n",
       "      <td>Jorge_Manzanares@gmail.com</td>\n",
       "    </tr>\n",
       "    <tr>\n",
       "      <th>2</th>\n",
       "      <td>Onofre Adadia</td>\n",
       "      <td>Onofre_Adadia@gmail.com</td>\n",
       "    </tr>\n",
       "    <tr>\n",
       "      <th>3</th>\n",
       "      <td>Merche Prada</td>\n",
       "      <td>Merche_Prada@gmail.com</td>\n",
       "    </tr>\n",
       "    <tr>\n",
       "      <th>4</th>\n",
       "      <td>Pilar Abella</td>\n",
       "      <td>Pilar_Abella@gmail.com</td>\n",
       "    </tr>\n",
       "    <tr>\n",
       "      <th>5</th>\n",
       "      <td>Leoncio Tena</td>\n",
       "      <td>Leoncio_Tena@gmail.com</td>\n",
       "    </tr>\n",
       "    <tr>\n",
       "      <th>6</th>\n",
       "      <td>Odalys Torrijos</td>\n",
       "      <td>Odalys_Torrijos@gmail.com</td>\n",
       "    </tr>\n",
       "    <tr>\n",
       "      <th>7</th>\n",
       "      <td>Eduardo Caparrós</td>\n",
       "      <td>Eduardo_Caparrós@gmail.com</td>\n",
       "    </tr>\n",
       "    <tr>\n",
       "      <th>8</th>\n",
       "      <td>Ignacio Goicoechea</td>\n",
       "      <td>Ignacio_Goicoechea@gmail.com</td>\n",
       "    </tr>\n",
       "    <tr>\n",
       "      <th>9</th>\n",
       "      <td>Clementina Santos</td>\n",
       "      <td>Clementina_Santos@gmail.com</td>\n",
       "    </tr>\n",
       "    <tr>\n",
       "      <th>10</th>\n",
       "      <td>Daniela Falcó</td>\n",
       "      <td>Daniela_Falcó@gmail.com</td>\n",
       "    </tr>\n",
       "    <tr>\n",
       "      <th>11</th>\n",
       "      <td>Abraham Vélez</td>\n",
       "      <td>Abraham_Vélez@gmail.com</td>\n",
       "    </tr>\n",
       "    <tr>\n",
       "      <th>12</th>\n",
       "      <td>Maximiliano Menéndez</td>\n",
       "      <td>Maximiliano_Menéndez@gmail.com</td>\n",
       "    </tr>\n",
       "    <tr>\n",
       "      <th>13</th>\n",
       "      <td>Anita Heredia</td>\n",
       "      <td>Anita_Heredia@gmail.com</td>\n",
       "    </tr>\n",
       "    <tr>\n",
       "      <th>14</th>\n",
       "      <td>Eli Casas</td>\n",
       "      <td>Eli_Casas@gmail.com</td>\n",
       "    </tr>\n",
       "  </tbody>\n",
       "</table>\n",
       "</div>"
      ],
      "text/plain": [
       "                  Nombre                           Email\n",
       "0           Jafet Casals          Jafet_Casals@gmail.com\n",
       "1       Jorge Manzanares      Jorge_Manzanares@gmail.com\n",
       "2          Onofre Adadia         Onofre_Adadia@gmail.com\n",
       "3           Merche Prada          Merche_Prada@gmail.com\n",
       "4           Pilar Abella          Pilar_Abella@gmail.com\n",
       "5           Leoncio Tena          Leoncio_Tena@gmail.com\n",
       "6        Odalys Torrijos       Odalys_Torrijos@gmail.com\n",
       "7       Eduardo Caparrós      Eduardo_Caparrós@gmail.com\n",
       "8     Ignacio Goicoechea    Ignacio_Goicoechea@gmail.com\n",
       "9      Clementina Santos     Clementina_Santos@gmail.com\n",
       "10         Daniela Falcó         Daniela_Falcó@gmail.com\n",
       "11         Abraham Vélez         Abraham_Vélez@gmail.com\n",
       "12  Maximiliano Menéndez  Maximiliano_Menéndez@gmail.com\n",
       "13         Anita Heredia         Anita_Heredia@gmail.com\n",
       "14             Eli Casas             Eli_Casas@gmail.com"
      ]
     },
     "execution_count": 36,
     "metadata": {},
     "output_type": "execute_result"
    }
   ],
   "source": [
    "df_c1"
   ]
  },
  {
   "cell_type": "code",
   "execution_count": 37,
   "metadata": {},
   "outputs": [],
   "source": [
    "df_c1.to_csv('data/converted/test.csv')"
   ]
  },
  {
   "cell_type": "code",
   "execution_count": 38,
   "metadata": {},
   "outputs": [
    {
     "data": {
      "text/plain": [
       "15"
      ]
     },
     "execution_count": 38,
     "metadata": {},
     "output_type": "execute_result"
    }
   ],
   "source": [
    "df_c1.to_sql(name='clase_1', con = engine, if_exists='fail')"
   ]
  },
  {
   "cell_type": "code",
   "execution_count": 40,
   "metadata": {},
   "outputs": [
    {
     "name": "stdout",
     "output_type": "stream",
     "text": [
      "[(0, 'Jafet Casals', 'Jafet_Casals@gmail.com'), (1, 'Jorge Manzanares', 'Jorge_Manzanares@gmail.com'), (2, 'Onofre Adadia', 'Onofre_Adadia@gmail.com'), (3, 'Merche Prada', 'Merche_Prada@gmail.com'), (4, 'Pilar Abella', 'Pilar_Abella@gmail.com'), (5, 'Leoncio Tena', 'Leoncio_Tena@gmail.com'), (6, 'Odalys Torrijos', 'Odalys_Torrijos@gmail.com'), (7, 'Eduardo Caparrós', 'Eduardo_Caparrós@gmail.com'), (8, 'Ignacio Goicoechea', 'Ignacio_Goicoechea@gmail.com'), (9, 'Clementina Santos', 'Clementina_Santos@gmail.com'), (10, 'Daniela Falcó', 'Daniela_Falcó@gmail.com'), (11, 'Abraham Vélez', 'Abraham_Vélez@gmail.com'), (12, 'Maximiliano Menéndez', 'Maximiliano_Menéndez@gmail.com'), (13, 'Anita Heredia', 'Anita_Heredia@gmail.com'), (14, 'Eli Casas', 'Eli_Casas@gmail.com')]\n"
     ]
    }
   ],
   "source": [
    "from sqlalchemy import text\n",
    "with engine.connect() as conn:\n",
    "   result = conn.execute(text(\"SELECT * FROM clase_1\")).fetchall()\n",
    "   print(result)"
   ]
  }
 ],
 "metadata": {
  "kernelspec": {
   "display_name": "Python 3",
   "language": "python",
   "name": "python3"
  },
  "language_info": {
   "codemirror_mode": {
    "name": "ipython",
    "version": 3
   },
   "file_extension": ".py",
   "mimetype": "text/x-python",
   "name": "python",
   "nbconvert_exporter": "python",
   "pygments_lexer": "ipython3",
   "version": "3.12.5"
  }
 },
 "nbformat": 4,
 "nbformat_minor": 2
}
